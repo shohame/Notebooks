{
  "nbformat": 4,
  "nbformat_minor": 0,
  "metadata": {
    "colab": {
      "name": "Class_03.ipynb",
      "provenance": [],
      "collapsed_sections": [],
      "authorship_tag": "ABX9TyMYbaTnK20aCYgdGUzuSTHH",
      "include_colab_link": true
    },
    "kernelspec": {
      "name": "python3",
      "display_name": "Python 3"
    }
  },
  "cells": [
    {
      "cell_type": "markdown",
      "metadata": {
        "id": "view-in-github",
        "colab_type": "text"
      },
      "source": [
        "<a href=\"https://colab.research.google.com/github/shohame/Notebooks/blob/master/Class_03.ipynb\" target=\"_parent\"><img src=\"https://colab.research.google.com/assets/colab-badge.svg\" alt=\"Open In Colab\"/></a>"
      ]
    },
    {
      "cell_type": "code",
      "metadata": {
        "id": "fkxY5wHFPOKY",
        "colab_type": "code",
        "colab": {
          "base_uri": "https://localhost:8080/",
          "height": 143
        },
        "outputId": "2f1f864f-8804-4b3a-ffb6-5eb667e354d4"
      },
      "source": [
        "!pip install matplotlib"
      ],
      "execution_count": 5,
      "outputs": [
        {
          "output_type": "stream",
          "text": [
            "Requirement already satisfied: matplotlib in /usr/local/lib/python3.6/dist-packages (3.2.1)\n",
            "Requirement already satisfied: python-dateutil>=2.1 in /usr/local/lib/python3.6/dist-packages (from matplotlib) (2.8.1)\n",
            "Requirement already satisfied: pyparsing!=2.0.4,!=2.1.2,!=2.1.6,>=2.0.1 in /usr/local/lib/python3.6/dist-packages (from matplotlib) (2.4.7)\n",
            "Requirement already satisfied: kiwisolver>=1.0.1 in /usr/local/lib/python3.6/dist-packages (from matplotlib) (1.2.0)\n",
            "Requirement already satisfied: numpy>=1.11 in /usr/local/lib/python3.6/dist-packages (from matplotlib) (1.18.3)\n",
            "Requirement already satisfied: cycler>=0.10 in /usr/local/lib/python3.6/dist-packages (from matplotlib) (0.10.0)\n",
            "Requirement already satisfied: six>=1.5 in /usr/local/lib/python3.6/dist-packages (from python-dateutil>=2.1->matplotlib) (1.12.0)\n"
          ],
          "name": "stdout"
        }
      ]
    },
    {
      "cell_type": "markdown",
      "metadata": {
        "id": "3GJxQpRwQbVK",
        "colab_type": "text"
      },
      "source": [
        "[Test link to github](https://colab.research.google.com/github/shohame/Notebooks/blob/master/Plotting%20with%20Python_%20learn%2080%20plots%20STEP%20by%20STEP%20.ipynb)"
      ]
    },
    {
      "cell_type": "code",
      "metadata": {
        "id": "U6IPOa-FML72",
        "colab_type": "code",
        "colab": {
          "base_uri": "https://localhost:8080/",
          "height": 265
        },
        "outputId": "06c763a3-baa5-4e9b-d21b-b8ad10845012"
      },
      "source": [
        "import matplotlib.pyplot as plt\n",
        "\n",
        "\n",
        "# create the figure\n",
        "fig = plt.figure()\n",
        "\n",
        "# add a subplot to the figure (the explicit way)\n",
        "# Passing the numbers is optional and you can pass 111 but I will stick with this way. \n",
        "# That's why I call it explicit way.\n",
        "# 1, 1, 1 means: 1 axes in a 1 row 1 column grid. More on this later.\n",
        "ax1 = fig.add_subplot(1, 1, 1)\n",
        "\n",
        "# some data\n",
        "x = [1, 2, 3, 4, 5]\n",
        "y = [3, 2, 1, 4, 5]\n",
        "\n",
        "# plot basic things\n",
        "ax1.plot(x, y);"
      ],
      "execution_count": 9,
      "outputs": [
        {
          "output_type": "display_data",
          "data": {
            "image/png": "[encoded data removed]",
            "text/plain": [
              "<Figure size 432x288 with 1 Axes>"
            ]
          },
          "metadata": {
            "tags": [],
            "needs_background": "light"
          }
        }
      ]
    }
  ]
}